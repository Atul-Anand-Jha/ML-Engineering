{
 "cells": [
  {
   "cell_type": "markdown",
   "metadata": {},
   "source": [
    "https://github.com/aws-samples/amazon-forecast-samples/blob/master/notebooks/basic/Tutorial/1.Importing_Your_Data.ipynb"
   ]
  },
  {
   "cell_type": "code",
   "execution_count": null,
   "metadata": {},
   "outputs": [],
   "source": [
    "# STEP 1 - CONNECT\n",
    "import boto3\n",
    "import datetime\n",
    "import pandas as pd"
   ]
  },
  {
   "cell_type": "code",
   "execution_count": null,
   "metadata": {},
   "outputs": [],
   "source": [
    "REGION = 'eu-west-1'\n",
    "BUCKET_URI = 's3://mleipchapter7/data/rossman/'\n",
    "ALGORITHM_ARN = 'arn:aws:forecast:::algorithm/Prophet'\n",
    "PREDICTOR_BASE_NAME = 'store_demand_prophet'#+datetime.datetime.now().strftime(format='%Y_%m_%d')\n",
    "DATASET_GROUP_ARN = 'arn:aws:forecast:eu-west-1:508972911348:dataset-group/store_demand_group'\n",
    "DATASET_FREQUENCY = 'D'\n",
    "FORECAST_BASE_NAME = 'store_model_prophet'\n",
    "\n",
    "class ForecastSession(object):\n",
    "    \n",
    "    def __init__(self):\n",
    "        self.session = boto3.Session(region_name=REGION) \n",
    "        self.forecast = self.session.client(service_name='forecast') \n",
    "        self.forecastquery = self.session.client(service_name='forecastquery')\n",
    "        \n",
    "class Trainer(object):\n",
    "    \n",
    "    def __init__(self, forecast_session):\n",
    "        self.forecast_session = forecast_session\n",
    "        self.df_pred_metadata = self.get_df_pred_metadata()\n",
    "        self.latest_predictor = self.get_latest_predictor()\n",
    "        \n",
    "    def get_df_pred_metadata(self):\n",
    "        predictor_metadata = self.forecast_session.forecast.list_predictors()['Predictors']\n",
    "        df_pred_metadata = pd.DataFrame.from_records(predictor_metadata)\n",
    "        return df_pred_metadata\n",
    "        \n",
    "    def get_latest_predictor(self):\n",
    "        latest_predictor = self.df_pred_metadata.sort_values(by='CreationTime', ascending=False).loc[0].to_dict()\n",
    "        return latest_predictor\n",
    "        \n",
    "    def latest_predictor_in_tolerance(self, tolerance_days=2):\n",
    "        train_time_elapsed_days = (\n",
    "            datetime.datetime.now()-self.latest_predictor['CreationTime'].replace(tzinfo=None)\n",
    "        ).days\n",
    "        if train_time_elapsed_days < tolerance_days:\n",
    "            return True\n",
    "        else:\n",
    "            return False\n",
    "        \n",
    "        \n",
    "    def train_new_predictor(self):\n",
    "        PREDICTOR_NAME = PREDICTOR_BASE_NAME + datetime.datetime.now().strftime(format='%Y_%m_%d_%H_%M')\n",
    "        train_response = self.forecast_session.forecast.create_predictor(PredictorName=PREDICTOR_NAME,\n",
    "                              AlgorithmArn=ALGORITHM_ARN,\n",
    "                              ForecastHorizon=7,\n",
    "                              PerformAutoML=False,\n",
    "                              PerformHPO=False,\n",
    "                              InputDataConfig= {\"DatasetGroupArn\": DATASET_GROUP_ARN},\n",
    "                              FeaturizationConfig= {\"ForecastFrequency\": DATASET_FREQUENCY}\n",
    "                             )\n",
    "        return train_response\n",
    "    \n",
    "    def create_latest_forecast(self):\n",
    "        FORECAST_NAME = FORECAST_BASE_NAME + datetime.datetime.now().strftime(format='%Y_%m_%d_%H_%M')\n",
    "        create_forecast_response = self.forecast_session.forecast.create_forecast(\n",
    "            ForecastName=FORECAST_NAME,\n",
    "            PredictorArn=self.latest_predictor['PredictorArn'])\n",
    "        return create_forecast_response\n",
    "        \n",
    "    \n",
    "    \n",
    "class Forecaster(object):\n",
    "    \n",
    "    def __init__(self, forecast_session):\n",
    "        self.forecast_session = forecast_session\n",
    "        self.df_forecast_metadata = self.get_df_forecast_metadata()\n",
    "        self.latest_forecast = self.get_latest_forecast()\n",
    "        \n",
    "    def get_df_forecast_metadata(self):\n",
    "        forecast_metadata = self.forecast_session.forecast.list_forecasts()['Forecasts']\n",
    "        df_forecast_metadata = pd.DataFrame.from_records(forecast_metadata)\n",
    "        return df_forecast_metadata\n",
    "        \n",
    "    def get_latest_forecast(self):\n",
    "        latest_forecast = self.df_forecast_metadata.sort_values(by='CreationTime', ascending=False).loc[0].to_dict()\n",
    "        return latest_forecast\n",
    "\n",
    "    def get_forecast(self, store_id):\n",
    "        return self.forecast_session.forecastquery.query_forecast(\n",
    "            ForecastArn=self.latest_forecast['ForecastArn'],\n",
    "            Filters={\"item_id\": str(store_id)}\n",
    "        )\n",
    "    "
   ]
  },
  {
   "cell_type": "code",
   "execution_count": null,
   "metadata": {},
   "outputs": [],
   "source": [
    "forecast_session = ForecastSession()"
   ]
  },
  {
   "cell_type": "code",
   "execution_count": null,
   "metadata": {},
   "outputs": [],
   "source": [
    "trainer = Trainer(forecast_session)"
   ]
  },
  {
   "cell_type": "code",
   "execution_count": null,
   "metadata": {},
   "outputs": [],
   "source": [
    "trainer.latest_predictor_in_tolerance()"
   ]
  },
  {
   "cell_type": "code",
   "execution_count": null,
   "metadata": {},
   "outputs": [],
   "source": [
    "trainer.train_new_predictor()"
   ]
  },
  {
   "cell_type": "code",
   "execution_count": null,
   "metadata": {},
   "outputs": [],
   "source": [
    "forecaster = Forecaster(forecast_session)"
   ]
  },
  {
   "cell_type": "code",
   "execution_count": null,
   "metadata": {},
   "outputs": [],
   "source": [
    "forecaster.get_forecast(1)"
   ]
  },
  {
   "cell_type": "code",
   "execution_count": null,
   "metadata": {},
   "outputs": [],
   "source": [
    "forecast_session.forecast.list_forecasts()"
   ]
  },
  {
   "cell_type": "code",
   "execution_count": null,
   "metadata": {},
   "outputs": [],
   "source": [
    "forecaster_metadata = forecast_session.forecast.list_forecasts()['Forecasts']\n",
    "df_forecast_metadata = pd.DataFrame.from_records(forecaster_metadata)"
   ]
  },
  {
   "cell_type": "code",
   "execution_count": null,
   "metadata": {},
   "outputs": [],
   "source": [
    "df_forecast_metadata.sort_values(by='CreationTime', ascending=False).loc[0].to_dict()"
   ]
  },
  {
   "cell_type": "code",
   "execution_count": null,
   "metadata": {},
   "outputs": [],
   "source": [
    "# STEP 1 - CONNECT\n",
    "import boto3\n",
    "import datetime\n",
    "\n",
    "REGION = 'eu-west-1'\n",
    "BUCKET_URI = 's3://mleipchapter7/data/rossman/'\n",
    "\n",
    "\n",
    "# Connect API session\n",
    "session = boto3.Session(region_name=REGION) \n",
    "forecast = session.client(service_name='forecast') \n",
    "forecastquery = session.client(service_name='forecastquery')\n"
   ]
  },
  {
   "cell_type": "code",
   "execution_count": null,
   "metadata": {},
   "outputs": [],
   "source": [
    "forecast.list_predictors()"
   ]
  },
  {
   "cell_type": "code",
   "execution_count": null,
   "metadata": {},
   "outputs": [],
   "source": [
    "#STEP 2 - CREATE NEW PREDICTOR\n",
    "\n",
    "ALGORITHM_ARN = 'arn:aws:forecast:::algorithm/Prophet'\n",
    "PREDICTOR_NAME = 'store_demand_prophet'+datetime.datetime.now().strftime(format='%Y_%m_%d')\n",
    "DATASET_GROUP_ARN = 'arn:aws:forecast:eu-west-1:508972911348:dataset-group/store_demand_group'\n",
    "DATASET_FREQUENCY = 'D'\n",
    "\n",
    "create_predictor_response = \\\n",
    "    forecast.create_predictor(PredictorName=PREDICTOR_NAME,\n",
    "                              AlgorithmArn=ALGORITHM_ARN,\n",
    "                              ForecastHorizon=7,\n",
    "                              PerformAutoML=False,\n",
    "                              PerformHPO=False,\n",
    "                              InputDataConfig= {\"DatasetGroupArn\": DATASET_GROUP_ARN},\n",
    "                              FeaturizationConfig= {\"ForecastFrequency\": DATASET_FREQUENCY}\n",
    "                             )\n",
    "\n"
   ]
  },
  {
   "cell_type": "code",
   "execution_count": null,
   "metadata": {},
   "outputs": [],
   "source": [
    "forecast.list_predictors()['Predictors']"
   ]
  },
  {
   "cell_type": "code",
   "execution_count": null,
   "metadata": {},
   "outputs": [],
   "source": [
    "import pandas as pd"
   ]
  },
  {
   "cell_type": "code",
   "execution_count": null,
   "metadata": {},
   "outputs": [],
   "source": [
    "df1 = pd.DataFrame.from_records(forecast.list_predictors()['Predictors'])"
   ]
  },
  {
   "cell_type": "code",
   "execution_count": null,
   "metadata": {},
   "outputs": [],
   "source": [
    "(datetime.datetime.now()-df1['CreationTime'].max().replace(tzinfo=None)).days"
   ]
  },
  {
   "cell_type": "code",
   "execution_count": null,
   "metadata": {},
   "outputs": [],
   "source": [
    "predictor_metadata = forecast.list_predictors()['Predictors']\n",
    "df_pred_metadata = pd.DataFrame.from_records(predictor_metadata)"
   ]
  },
  {
   "cell_type": "code",
   "execution_count": null,
   "metadata": {},
   "outputs": [],
   "source": [
    "latest_predictor = df_pred_metadata.sort_values(by='CreationTime', ascending=False).loc[0].to_dict()['CreationTime']"
   ]
  },
  {
   "cell_type": "code",
   "execution_count": null,
   "metadata": {},
   "outputs": [],
   "source": [
    "latest_predictor"
   ]
  },
  {
   "cell_type": "code",
   "execution_count": null,
   "metadata": {},
   "outputs": [],
   "source": [
    "forecast.list_forecasts()"
   ]
  }
 ],
 "metadata": {
  "kernelspec": {
   "display_name": "Python 3",
   "language": "python",
   "name": "python3"
  },
  "language_info": {
   "codemirror_mode": {
    "name": "ipython",
    "version": 3
   },
   "file_extension": ".py",
   "mimetype": "text/x-python",
   "name": "python",
   "nbconvert_exporter": "python",
   "pygments_lexer": "ipython3",
   "version": "3.8.5"
  }
 },
 "nbformat": 4,
 "nbformat_minor": 4
}
