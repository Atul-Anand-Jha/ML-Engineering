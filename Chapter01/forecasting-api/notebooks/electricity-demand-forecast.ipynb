{
 "cells": [
  {
   "cell_type": "markdown",
   "metadata": {},
   "source": [
    "# Electricity Demand Forecasting\n",
    "This notebook details some basic code to get a simple time series forecasting algorithm up and running. The focus here is not an optimised algorithm, but to create a simple base model from which we can explore the concepts of machine learning engineering in the rest of the book."
   ]
  },
  {
   "cell_type": "markdown",
   "metadata": {},
   "source": [
    "# Set Up"
   ]
  },
  {
   "cell_type": "code",
   "execution_count": null,
   "metadata": {},
   "outputs": [],
   "source": [
    "import pandas as pd\n",
    "import numpy as np\n",
    "from fbprophet import Prophet\n",
    "import matplotlib.pyplot as plt\n",
    "from sklearn.model_selection import TimeSeriesSplit #Splitting for time series CV!"
   ]
  },
  {
   "cell_type": "code",
   "execution_count": null,
   "metadata": {},
   "outputs": [],
   "source": [
    "df = pd.read_csv('../data/AEP_hourly.csv')"
   ]
  },
  {
   "cell_type": "code",
   "execution_count": null,
   "metadata": {},
   "outputs": [],
   "source": [
    "df.head()"
   ]
  },
  {
   "cell_type": "code",
   "execution_count": null,
   "metadata": {},
   "outputs": [],
   "source": [
    "df.plot(x='Datetime', y='AEP_MW', figsize=(20,10))"
   ]
  },
  {
   "cell_type": "markdown",
   "metadata": {},
   "source": [
    "# Functions"
   ]
  },
  {
   "cell_type": "code",
   "execution_count": null,
   "metadata": {},
   "outputs": [],
   "source": [
    "seasonality = {\n",
    "    'yearly': True,\n",
    "    'weekly': True,\n",
    "    'daily': True\n",
    "}\n",
    "def time_split_train_test(df, time_series_splits, seasonality=seasonality):\n",
    "    # for outputting\n",
    "    df_results = pd.DataFrame()\n",
    "    \n",
    "    for i,(train_i,test_i) in enumerate(time_series_splits.split(df)):\n",
    "        \n",
    "        # grab split data\n",
    "        df_train = df.copy().iloc[train_i,:]\n",
    "        df_test = df.copy().iloc[test_i,:]\n",
    "\n",
    "        # create Prophet model\n",
    "        model=Prophet(\n",
    "            yearly_seasonality=seasonality['yearly'],\n",
    "            weekly_seasonality=seasonality['weekly'],\n",
    "            daily_seasonality=seasonality['daily']\n",
    "        )\n",
    "\n",
    "        # train and predict\n",
    "        model.fit(df_train)\n",
    "        predicted = model.predict(df_test)\n",
    "\n",
    "        # combine pred and training df's for plotting\n",
    "        df_pred = predicted.loc[:,[\"ds\",\"yhat\"]]\n",
    "        \n",
    "        df_pred[\"y\"] = df_test['y'].tolist()\n",
    "        \n",
    "        # Train or Test?\n",
    "        df_train[\"train\"]=True\n",
    "        df_pred[\"train\"]=False\n",
    "        \n",
    "        df_sub = df_train.append(df_pred).reset_index(drop=True)\n",
    "        df_sub[\"split\"]=i\n",
    "        df_sub[\"rmse\"]=(np.mean((df_sub.yhat-df_sub.y)**2))**.5 #calculating rmse for the split\n",
    "        \n",
    "        df_results = df_results.append(df_sub).reset_index(drop=True)\n",
    "    return df_results"
   ]
  },
  {
   "cell_type": "markdown",
   "metadata": {},
   "source": [
    "## Prep for Prophet"
   ]
  },
  {
   "cell_type": "code",
   "execution_count": null,
   "metadata": {},
   "outputs": [],
   "source": [
    "df.rename(columns= {'Datetime': 'ds', 'AEP_MW': 'y'}, inplace=True)"
   ]
  },
  {
   "cell_type": "code",
   "execution_count": null,
   "metadata": {},
   "outputs": [],
   "source": [
    "df['ds']=df['ds'].astype('datetime64[ns]')"
   ]
  },
  {
   "cell_type": "code",
   "execution_count": null,
   "metadata": {},
   "outputs": [],
   "source": [
    "df.dtypes"
   ]
  },
  {
   "cell_type": "code",
   "execution_count": null,
   "metadata": {},
   "outputs": [],
   "source": [
    "#Initialize Split Class, we'll split our data 5 times for cv\n",
    "ts_splits = TimeSeriesSplit(n_splits=5)"
   ]
  },
  {
   "cell_type": "markdown",
   "metadata": {},
   "source": [
    "## Train and Forecast"
   ]
  },
  {
   "cell_type": "code",
   "execution_count": null,
   "metadata": {},
   "outputs": [],
   "source": [
    "tmp = time_split_train_test(df.sort_values('ds', ascending=True).iloc[-1000:], ts_splits)"
   ]
  },
  {
   "cell_type": "code",
   "execution_count": null,
   "metadata": {},
   "outputs": [],
   "source": [
    "tmp.head()"
   ]
  },
  {
   "cell_type": "markdown",
   "metadata": {},
   "source": [
    "## Plot"
   ]
  },
  {
   "cell_type": "code",
   "execution_count": null,
   "metadata": {},
   "outputs": [],
   "source": [
    "nrow = 5; ncol = 1;\n",
    "fig, axs = plt.subplots(nrows=nrow, ncols=ncol, figsize=(20,30))\n",
    "fig.subplots_adjust(hspace=0.4, wspace=0.4)\n",
    "for i, ax in enumerate(fig.axes):\n",
    "    split_rmse = tmp[(tmp['split']==i) & (tmp['train']==False)]['rmse'].iloc[0]\n",
    "    \n",
    "    ax.set_title('Split '+str(i)+' - RMSE: '+\"{:.2f}\".format(split_rmse))\n",
    "    \n",
    "    tmp[(tmp['split']==i) & (tmp['train']==True)].plot(x='ds', y='y', ax=ax, color='blue', marker='o')\n",
    "    tmp[(tmp['split']==i) & (tmp['train']==False)].plot(x='ds', y='y', ax=ax, color='red', marker='o')\n",
    "    tmp[(tmp['split']==i) & (tmp['train']==False)].plot(x='ds', y='yhat', ax=ax, color='orange', marker='^')"
   ]
  },
  {
   "cell_type": "code",
   "execution_count": null,
   "metadata": {},
   "outputs": [],
   "source": [
    "# winner is split 3 - so what are the sizes we select? \n",
    "model_config = {'train_size': 668, 'forecast_horizon': 100}\n",
    "                  \n",
    "#tmp[(tmp['split']==3) & (tmp['train']==True)].shape[0]\n",
    "\n",
    "#tmp[tmp['split']==3]['train'].groupby(tmp['train']).count().to_dict()"
   ]
  },
  {
   "cell_type": "markdown",
   "metadata": {},
   "source": [
    "# Final Model Param and Training cycle"
   ]
  },
  {
   "cell_type": "code",
   "execution_count": null,
   "metadata": {},
   "outputs": [],
   "source": [
    "\n",
    "# def forecaster_train_and_export(df, seasonality):\n",
    "#     # create Prophet model\n",
    "#     model=Prophet(\n",
    "#         yearly_seasonality=seasonality['yearly'],\n",
    "#         weekly_seasonality=seasonality['weekly'],\n",
    "#         daily_seasonality=seasonality['daily']\n",
    "#     )\n",
    "        \n",
    "#     # train and predict\n",
    "#     model.fit(df)\n",
    "#     return model\n",
    "    "
   ]
  }
 ],
 "metadata": {
  "kernelspec": {
   "display_name": "Python 3",
   "language": "python",
   "name": "python3"
  },
  "language_info": {
   "codemirror_mode": {
    "name": "ipython",
    "version": 3
   },
   "file_extension": ".py",
   "mimetype": "text/x-python",
   "name": "python",
   "nbconvert_exporter": "python",
   "pygments_lexer": "ipython3",
   "version": "3.8.5"
  }
 },
 "nbformat": 4,
 "nbformat_minor": 4
}
